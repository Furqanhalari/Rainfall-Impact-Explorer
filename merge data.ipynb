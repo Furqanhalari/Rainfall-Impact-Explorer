{
 "cells": [
  {
   "cell_type": "code",
   "execution_count": 2,
   "id": "281cf0f0-debc-4f58-b621-1ef6814062de",
   "metadata": {},
   "outputs": [],
   "source": [
    "import pandas as pd"
   ]
  },
  {
   "cell_type": "code",
   "execution_count": 3,
   "id": "0888789e-97cb-47e8-bef3-71bfc4ad3b42",
   "metadata": {},
   "outputs": [],
   "source": [
    "rainfall_df = pd.read_csv(\"rainfall.csv\")\n",
    "damage_df   = pd.read_csv(\"damage.csv\")"
   ]
  },
  {
   "cell_type": "code",
   "execution_count": 4,
   "id": "3eb2e6b4-5ee5-4a09-8187-f0f7af4d7730",
   "metadata": {},
   "outputs": [],
   "source": [
    "merged_df = pd.merge(rainfall_df, damage_df, on=\"Year\", how=\"inner\")"
   ]
  },
  {
   "cell_type": "code",
   "execution_count": 5,
   "id": "20c15ebd-b323-48dc-a433-b020f2c53e27",
   "metadata": {},
   "outputs": [],
   "source": [
    "merged_df.to_csv(\"merged_data.csv\", index=False)"
   ]
  }
 ],
 "metadata": {
  "kernelspec": {
   "display_name": "Python 3 (ipykernel)",
   "language": "python",
   "name": "python3"
  },
  "language_info": {
   "codemirror_mode": {
    "name": "ipython",
    "version": 3
   },
   "file_extension": ".py",
   "mimetype": "text/x-python",
   "name": "python",
   "nbconvert_exporter": "python",
   "pygments_lexer": "ipython3",
   "version": "3.12.4"
  }
 },
 "nbformat": 4,
 "nbformat_minor": 5
}
